{
 "cells": [
  {
   "cell_type": "code",
   "execution_count": 11,
   "id": "f49b737c-2128-445a-bc27-793dd5f6f48d",
   "metadata": {},
   "outputs": [
    {
     "name": "stdin",
     "output_type": "stream",
     "text": [
      "Enter the size of bloom filter 13\n"
     ]
    },
    {
     "name": "stdout",
     "output_type": "stream",
     "text": [
      "Intitial bloom filter: [0 0 0 0 0 0 0 0 0 0 0 0 0]\n"
     ]
    }
   ],
   "source": [
    "#bloom filter \n",
    "import numpy as np \n",
    "\n",
    "n=int(input(\"Enter the size of bloom filter\"))\n",
    "bloom=np.zeros(n,dtype=int)\n",
    "print(\"Intitial bloom filter:\",bloom)"
   ]
  },
  {
   "cell_type": "code",
   "execution_count": 12,
   "id": "b16154fe-c1f0-4d96-b7d6-af46a0a91634",
   "metadata": {},
   "outputs": [
    {
     "name": "stdin",
     "output_type": "stream",
     "text": [
      "Enter the number of elemets in bloom filter 5\n",
      "Enter Elements 8\n",
      "Enter Elements 17\n",
      "Enter Elements 25\n",
      "Enter Elements 14\n",
      "Enter Elements 20\n"
     ]
    },
    {
     "name": "stdout",
     "output_type": "stream",
     "text": [
      "List after Insertion is: [8, 17, 25, 14, 20]\n"
     ]
    }
   ],
   "source": [
    "no_ele=int(input(\"Enter the number of elemets in bloom filter\"))\n",
    "arr_list=[]\n",
    "for i in range(no_ele):\n",
    "    arr_list.append(int(input(\"Enter Elements\")))\n",
    "print(\"List after Insertion is:\",arr_list)"
   ]
  },
  {
   "cell_type": "code",
   "execution_count": 13,
   "id": "e89b8f6f-d55b-4515-9f10-5accb17bb727",
   "metadata": {},
   "outputs": [],
   "source": [
    "def h1(x):\n",
    "    return (x+1)%13\n",
    "def h2(x):\n",
    "    return (2*x+5)%13"
   ]
  },
  {
   "cell_type": "code",
   "execution_count": 14,
   "id": "1dee9af9-793a-402c-be28-3f3640e5cf51",
   "metadata": {},
   "outputs": [
    {
     "name": "stdout",
     "output_type": "stream",
     "text": [
      "Bloom after insertion: [1 0 1 1 0 1 1 1 1 1 0 0 0]\n"
     ]
    }
   ],
   "source": [
    "for i in arr_list:\n",
    "    bloom[h1(i)]=1\n",
    "    bloom[h2(i)]=1\n",
    "print(\"Bloom after insertion:\",bloom)"
   ]
  },
  {
   "cell_type": "code",
   "execution_count": 17,
   "id": "14f10171-7184-4d62-ab32-2fbecd029032",
   "metadata": {},
   "outputs": [
    {
     "name": "stdin",
     "output_type": "stream",
     "text": [
      "Enter the number of elements to be searched 2\n",
      "Enter the element 5\n",
      "Enter the element 6\n"
     ]
    },
    {
     "name": "stdout",
     "output_type": "stream",
     "text": [
      "Search list [5, 6]\n"
     ]
    }
   ],
   "source": [
    "ser_ele=int(input(\"Enter the number of elements to be searched\"))\n",
    "ser_list=[]\n",
    "for i in range(ser_ele):\n",
    "    ser_list.append(int(input(\"Enter the element\")))\n",
    "print(\"Search list\",ser_list)"
   ]
  },
  {
   "cell_type": "code",
   "execution_count": 18,
   "id": "f2b8ef03-c5c6-4889-acf0-4d960e9c3df4",
   "metadata": {},
   "outputs": [
    {
     "name": "stdout",
     "output_type": "stream",
     "text": [
      "5 is present\n"
     ]
    }
   ],
   "source": [
    "for i in ser_list:\n",
    "    if bloom[h1(i)]==1 and bloom[h2(i)]==1:\n",
    "        print(i,\"is present\")"
   ]
  },
  {
   "cell_type": "code",
   "execution_count": 20,
   "id": "543f8ab7-337e-477e-87de-f4178a0643be",
   "metadata": {},
   "outputs": [
    {
     "name": "stdin",
     "output_type": "stream",
     "text": [
      "Enter the no elments 23\n",
      "Enter the element 1\n",
      "Enter the element 2\n",
      "Enter the element 7\n",
      "Enter the element 1\n",
      "Enter the element 4\n",
      "Enter the element 9\n",
      "Enter the element 4\n",
      "Enter the element 6\n",
      "Enter the element 1\n",
      "Enter the element 6\n",
      "Enter the element 4\n",
      "Enter the element 4\n",
      "Enter the element 5\n",
      "Enter the element 5\n",
      "Enter the element 5\n",
      "Enter the element 9\n",
      "Enter the element 8\n",
      "Enter the element 7\n",
      "Enter the element 2\n",
      "Enter the element 2\n",
      "Enter the element 4\n",
      "Enter the element 4\n",
      "Enter the element 1\n"
     ]
    },
    {
     "name": "stdout",
     "output_type": "stream",
     "text": [
      "Inserted list [1, 2, 7, 1, 4, 9, 4, 6, 1, 6, 4, 4, 5, 5, 5, 9, 8, 7, 2, 2, 4, 4, 1]\n"
     ]
    }
   ],
   "source": [
    "#ams alog\n",
    "n=int(input(\"Enter the no elments\"))\n",
    "arr_list=[]\n",
    "for i in range(n):\n",
    "    arr_list.append(int(input(\"Enter the element\")))\n",
    "print(\"Inserted list\",arr_list)"
   ]
  },
  {
   "cell_type": "code",
   "execution_count": 22,
   "id": "b815fe68-125b-4a76-9e34-d538eafff25d",
   "metadata": {},
   "outputs": [
    {
     "name": "stdout",
     "output_type": "stream",
     "text": [
      "x1new: 2\n",
      "x2new: 4\n",
      "x3new: 6\n"
     ]
    }
   ],
   "source": [
    "x1=2\n",
    "x2=5\n",
    "x3=8\n",
    "\n",
    "x1new=arr_list[x1-1]\n",
    "x2new=arr_list[x2-1]\n",
    "x3new=arr_list[x3-1]\n",
    "print(\"x1new:\",x1new)\n",
    "print(\"x2new:\",x2new)\n",
    "print(\"x3new:\",x3new)"
   ]
  },
  {
   "cell_type": "code",
   "execution_count": 28,
   "id": "52819ad1-33d7-4a45-a1f5-bcb6c0c3a9f6",
   "metadata": {},
   "outputs": [
    {
     "name": "stdout",
     "output_type": "stream",
     "text": [
      "occurance of 2: [1, 1, 1] count: 3\n",
      "occurance of 4: [1, 1, 1, 1, 1, 1] count: 6\n",
      "occurance of 6: [1, 1] count: 2\n"
     ]
    }
   ],
   "source": [
    "def repeated(x,arr):\n",
    "    list=[]\n",
    "    count=0\n",
    "    for i in arr:\n",
    "        if x==i:\n",
    "            count=count+1\n",
    "            list.append(int(1))\n",
    "    print(f\"occurance of {x}:\",list,\"count:\",count)\n",
    "    return count \n",
    "\n",
    "\n",
    "r1=repeated(x1new,arr_list)\n",
    "r2=repeated(x2new,arr_list)\n",
    "r3=repeated(x3new,arr_list)"
   ]
  },
  {
   "cell_type": "code",
   "execution_count": 29,
   "id": "11996e67-f621-4350-818f-2d3c122ac5cf",
   "metadata": {},
   "outputs": [],
   "source": [
    "def hash(n,r):\n",
    "    return (2*r-1)*n"
   ]
  },
  {
   "cell_type": "code",
   "execution_count": 30,
   "id": "bded9024-5f91-45a2-8df4-484c82fd8f8e",
   "metadata": {},
   "outputs": [
    {
     "name": "stdout",
     "output_type": "stream",
     "text": [
      "145.66666666666666\n"
     ]
    }
   ],
   "source": [
    "x1hash=hash(n,r1)\n",
    "x2hash=hash(n,r2)\n",
    "x3hash=hash(n,r3)\n",
    "\n",
    "surprise_no=(x1hash+x2hash+x3hash)/3\n",
    "print(surprise_no)"
   ]
  },
  {
   "cell_type": "code",
   "execution_count": 1,
   "id": "6b63d114-d509-4995-9474-2d7ba8ff11cd",
   "metadata": {},
   "outputs": [
    {
     "name": "stdout",
     "output_type": "stream",
     "text": [
      "5\n",
      "4\n",
      "4\n",
      "191.66666666666666\n"
     ]
    }
   ],
   "source": [
    "import random \n",
    "\n",
    "def AMS(stream,x_values):\n",
    "    n = len(stream)\n",
    "    sum_squared_estimates = 0\n",
    "    for x in x_values:\n",
    "        #select the element fo x\n",
    "        r = stream[x - 1] \n",
    "        #count the number of r repeted in stream\n",
    "        count_r = stream.count(r)\n",
    "        print(count_r)\n",
    "        sum_squared_estimates += n * (2*count_r - 1)\n",
    "    return sum_squared_estimates / len(x_values)\n",
    "\n",
    "random_stream = [7, 10, 6, 8, 8, 6, 7, 6, 2, 3, 7, 9, 4, 8, 1, 7, 10, 8, 1, 9, 6, 5, 7, 9, 5]\n",
    "x_values = [1,3,5]\n",
    "\n",
    "surprise_number = AMS(random_stream,x_values)\n",
    "print(surprise_number)"
   ]
  }
 ],
 "metadata": {
  "kernelspec": {
   "display_name": "Python 3 (ipykernel)",
   "language": "python",
   "name": "python3"
  },
  "language_info": {
   "codemirror_mode": {
    "name": "ipython",
    "version": 3
   },
   "file_extension": ".py",
   "mimetype": "text/x-python",
   "name": "python",
   "nbconvert_exporter": "python",
   "pygments_lexer": "ipython3",
   "version": "3.11.7"
  }
 },
 "nbformat": 4,
 "nbformat_minor": 5
}
