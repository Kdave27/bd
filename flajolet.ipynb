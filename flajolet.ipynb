{
 "cells": [
  {
   "cell_type": "code",
   "execution_count": 7,
   "id": "081ab2aa-a24d-4cef-a2cd-08a2e3e1c519",
   "metadata": {},
   "outputs": [
    {
     "name": "stdout",
     "output_type": "stream",
     "text": [
      "element:5,Hash:16,Binary_hash:10000,Tail lenght:4\n",
      "element:5,Hash:10,Binary_hash:1010,Tail lenght:1\n",
      "element:5,Hash:19,Binary_hash:10011,Tail lenght:0\n",
      "element:5,Hash:10,Binary_hash:1010,Tail lenght:1\n",
      "element:5,Hash:22,Binary_hash:10110,Tail lenght:1\n",
      "element:5,Hash:2,Binary_hash:10,Tail lenght:1\n",
      "element:5,Hash:13,Binary_hash:1101,Tail lenght:0\n",
      "element:5,Hash:25,Binary_hash:11001,Tail lenght:0\n",
      "element:5,Hash:22,Binary_hash:10110,Tail lenght:1\n",
      "Estimated number of distinct elements: 16\n"
     ]
    }
   ],
   "source": [
    "#flajolet martin\n",
    "\n",
    "def hash_value(x):\n",
    "    return (3*x+7)%32\n",
    "\n",
    "def tail_len(bin_str):\n",
    "    return len(bin_str)-len(bin_str.rstrip('0'))\n",
    "\n",
    "\n",
    "def flajolet_martint(stream):\n",
    "    max_tail_length=0\n",
    "    tail_lengths=[]\n",
    "\n",
    "    for element in stream:\n",
    "        hash_val=hash_value(element)\n",
    "        bin_hash=format(hash_val,'b')\n",
    "\n",
    "        t_len=tail_len(bin_hash)\n",
    "        tail_lengths.append((element,hash_val,bin_hash,t_len)) \n",
    "\n",
    "        max_tail_length=max(max_tail_length,t_len)\n",
    "\n",
    "    for elem,h_val,bin_h,t_len in tail_lengths:\n",
    "        print(f\"element:{element},Hash:{h_val},Binary_hash:{bin_h},Tail lenght:{t_len}\")\n",
    "    return 2**max_tail_length\n",
    "\n",
    "\n",
    "stream=[3,1,4,1,5,9,2,6,5]\n",
    "\n",
    "estimate=flajolet_martint(stream)\n",
    "print(\"Estimated number of distinct elements:\",estimate)"
   ]
  },
  {
   "cell_type": "code",
   "execution_count": 19,
   "id": "61facf31-677e-4686-8681-d30444fa0291",
   "metadata": {},
   "outputs": [
    {
     "name": "stdout",
     "output_type": "stream",
     "text": [
      "Element: 3, Hash: 16, Binary Hash: 10000, Tail Length: 4\n",
      "Element: 1, Hash: 10, Binary Hash: 1010, Tail Length: 1\n",
      "Element: 4, Hash: 19, Binary Hash: 10011, Tail Length: 0\n",
      "Element: 1, Hash: 10, Binary Hash: 1010, Tail Length: 1\n",
      "Element: 5, Hash: 22, Binary Hash: 10110, Tail Length: 1\n",
      "Element: 9, Hash: 2, Binary Hash: 10, Tail Length: 1\n",
      "Element: 2, Hash: 13, Binary Hash: 1101, Tail Length: 0\n",
      "Element: 6, Hash: 25, Binary Hash: 11001, Tail Length: 0\n",
      "Element: 5, Hash: 22, Binary Hash: 10110, Tail Length: 1\n",
      "Element: 3, Hash: 20, Binary Hash: 10000, Tail Length: 4\n",
      "Element: 1, Hash: 18, Binary Hash: 1010, Tail Length: 1\n",
      "Element: 4, Hash: 21, Binary Hash: 10011, Tail Length: 0\n",
      "Element: 1, Hash: 18, Binary Hash: 1010, Tail Length: 1\n",
      "Element: 5, Hash: 22, Binary Hash: 10110, Tail Length: 1\n",
      "Element: 9, Hash: 26, Binary Hash: 10, Tail Length: 1\n",
      "Element: 2, Hash: 19, Binary Hash: 1101, Tail Length: 0\n",
      "Element: 6, Hash: 23, Binary Hash: 11001, Tail Length: 0\n",
      "Element: 5, Hash: 22, Binary Hash: 10110, Tail Length: 1\n",
      "16.0\n"
     ]
    }
   ],
   "source": [
    "def hash_value(x):\n",
    "    return (3*x+7)%32\n",
    "def hash_value1(x):\n",
    "    return (x+17)%32\n",
    "\n",
    "def tail_length(bin_str):\n",
    "    return len(bin_str)-len(bin_str.rstrip('0'))\n",
    "\n",
    "def flajolet_martin(stream):\n",
    "    max_tail_length=0\n",
    "    max_tail_length1=0\n",
    "    tail_lengths=[]\n",
    "    tail_lengths1=[]\n",
    "    for element in stream:\n",
    "        hash_val=hash_value(element)\n",
    "        hash_val1=hash_value1(element)\n",
    "        bin_hash=format(hash_val,'b')\n",
    "        bin_hash1=format(hash_val,'b')\n",
    "\n",
    "        t_len=tail_length(bin_hash)\n",
    "        t_len1=tail_length(bin_hash1)\n",
    "        tail_lengths.append((element,hash_val,bin_hash,t_len))\n",
    "        tail_lengths1.append((element,hash_val1,bin_hash1,t_len1))\n",
    "        \n",
    "\n",
    "        max_tail_length=max(max_tail_length,t_len)\n",
    "        max_tail_length1=max(max_tail_length1,t_len1)\n",
    "\n",
    "    for elem,h_val,bin_h,t_len in tail_lengths:\n",
    "         print(f\"Element: {elem}, Hash: {h_val}, Binary Hash: {bin_h}, Tail Length: {t_len}\")\n",
    "    for elem,h_val,bin_h,t_len in tail_lengths1:\n",
    "         print(f\"Element: {elem}, Hash: {h_val}, Binary Hash: {bin_h}, Tail Length: {t_len}\")\n",
    "    return (2**max_tail_length+2**max_tail_length1)/2\n",
    "\n",
    "stream=[3, 1, 4, 1, 5, 9, 2, 6, 5]\n",
    "estimate=flajolet_martin(stream)\n",
    "print(estimate)\n"
   ]
  },
  {
   "cell_type": "code",
   "execution_count": null,
   "id": "ef8d13ad-7893-43ed-b33d-1969bdef4dc1",
   "metadata": {},
   "outputs": [],
   "source": []
  }
 ],
 "metadata": {
  "kernelspec": {
   "display_name": "Python 3 (ipykernel)",
   "language": "python",
   "name": "python3"
  },
  "language_info": {
   "codemirror_mode": {
    "name": "ipython",
    "version": 3
   },
   "file_extension": ".py",
   "mimetype": "text/x-python",
   "name": "python",
   "nbconvert_exporter": "python",
   "pygments_lexer": "ipython3",
   "version": "3.11.7"
  }
 },
 "nbformat": 4,
 "nbformat_minor": 5
}
